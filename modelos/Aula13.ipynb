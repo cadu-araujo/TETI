{
 "cells": [
  {
   "cell_type": "code",
   "execution_count": 34,
   "id": "deeeb289-6f3f-468a-88cc-b9410d60570a",
   "metadata": {},
   "outputs": [],
   "source": [
    "import os\n",
    "import pandas as pd\n",
    "import tensorflow as tf\n",
    "from tensorflow.keras.applications.resnet50 import ResNet50, preprocess_input\n",
    "from tensorflow.keras.preprocessing.image import ImageDataGenerator, load_img\n",
    "from tensorflow.keras.preprocessing import image\n",
    "from tensorflow.keras.layers import Dense, GlobalAveragePooling2D\n",
    "from sklearn.model_selection import train_test_split\n",
    "import keras\n",
    "import numpy as np"
   ]
  },
  {
   "cell_type": "code",
   "execution_count": 2,
   "id": "794a9fc7-b025-418a-a5d5-8c59b83855dd",
   "metadata": {},
   "outputs": [],
   "source": [
    "num_classes = 2"
   ]
  },
  {
   "cell_type": "code",
   "execution_count": 26,
   "id": "917ce460-3926-4fb4-a677-d267919938a2",
   "metadata": {},
   "outputs": [
    {
     "name": "stdout",
     "output_type": "stream",
     "text": [
      "Downloading data from https://storage.googleapis.com/tensorflow/keras-applications/resnet/resnet50_weights_tf_dim_ordering_tf_kernels_notop.h5\n",
      "94765736/94765736 [==============================] - 10s 0us/step\n"
     ]
    }
   ],
   "source": [
    "modelo_base = ResNet50(weights = 'imagenet', include_top = False, input_shape=(224,224,3))"
   ]
  },
  {
   "cell_type": "code",
   "execution_count": 3,
   "id": "0d110edb-37f0-46f0-b134-b6e8f5b0918a",
   "metadata": {},
   "outputs": [
    {
     "ename": "NameError",
     "evalue": "name 'modelo_base' is not defined",
     "output_type": "error",
     "traceback": [
      "\u001b[1;31m---------------------------------------------------------------------------\u001b[0m",
      "\u001b[1;31mNameError\u001b[0m                                 Traceback (most recent call last)",
      "Cell \u001b[1;32mIn[3], line 2\u001b[0m\n\u001b[0;32m      1\u001b[0m modelo \u001b[38;5;241m=\u001b[39m tf\u001b[38;5;241m.\u001b[39mkeras\u001b[38;5;241m.\u001b[39mSequential(\n\u001b[1;32m----> 2\u001b[0m     [\u001b[43mmodelo_base\u001b[49m,\n\u001b[0;32m      3\u001b[0m      GlobalAveragePooling2D(),\n\u001b[0;32m      4\u001b[0m      Dense(\u001b[38;5;241m1024\u001b[39m, activation \u001b[38;5;241m=\u001b[39m \u001b[38;5;124m'\u001b[39m\u001b[38;5;124mrelu\u001b[39m\u001b[38;5;124m'\u001b[39m),\n\u001b[0;32m      5\u001b[0m      Dense(num_classes, activation\u001b[38;5;241m=\u001b[39m \u001b[38;5;124m'\u001b[39m\u001b[38;5;124msoftmax\u001b[39m\u001b[38;5;124m'\u001b[39m)\n\u001b[0;32m      6\u001b[0m     ])\n",
      "\u001b[1;31mNameError\u001b[0m: name 'modelo_base' is not defined"
     ]
    }
   ],
   "source": [
    "modelo = tf.keras.Sequential(\n",
    "    [modelo_base,\n",
    "     GlobalAveragePooling2D(),\n",
    "     Dense(1024, activation = 'relu'),\n",
    "     Dense(num_classes, activation= 'softmax')\n",
    "    ])"
   ]
  },
  {
   "cell_type": "code",
   "execution_count": null,
   "id": "9eb9af6d-27bc-4956-a490-8029f7cc789f",
   "metadata": {},
   "outputs": [],
   "source": [
    "modelo.compile(optimizer = tf.keras.optimizers.Adam(learning_rate=0.001),\n",
    "              loss= 'categorical_crossentropy',\n",
    "              metrics=['accuracy'])"
   ]
  },
  {
   "cell_type": "code",
   "execution_count": 51,
   "id": "be5b77a9-98ae-4251-94e3-dc123ef889c6",
   "metadata": {},
   "outputs": [],
   "source": [
    "path = 'D:/Salve_Aqui_Seus_Arquivos/carlos_araujo/TETI/datasets/dc_small/'"
   ]
  },
  {
   "cell_type": "code",
   "execution_count": 6,
   "id": "99405e36-60de-4f6e-81df-98977be2ddf6",
   "metadata": {},
   "outputs": [],
   "source": [
    "def cria_dataframe(caminho):\n",
    "    arquivos = []\n",
    "    rotulos = []\n",
    "    for arquivo in os.listdir(caminho):\n",
    "        if arquivo.startswith('cat'):\n",
    "            rotulos.append('cat')\n",
    "        elif arquivo.startswith('dog'):\n",
    "            rotulos.append('dog')\n",
    "        arquivos.append(arquivo)\n",
    "    return pd.DataFrame({'arquivo': arquivos, 'rotulo': rotulos})"
   ]
  },
  {
   "cell_type": "code",
   "execution_count": 7,
   "id": "efd1afa0-288f-4f70-a5ce-7f5dd7765508",
   "metadata": {},
   "outputs": [],
   "source": [
    "df_dados = cria_dataframe(os.path.join(path, 'train'))"
   ]
  },
  {
   "cell_type": "code",
   "execution_count": 8,
   "id": "5d73c473-adf7-43b7-baa7-206ae84956ba",
   "metadata": {},
   "outputs": [],
   "source": [
    "train_df, validation_df = train_test_split (df_dados, test_size = 0.3,\n",
    "                                            stratify = df_dados['rotulo'])"
   ]
  },
  {
   "cell_type": "code",
   "execution_count": 9,
   "id": "a8c776c8-4f76-4254-bfe1-cb8719c11c89",
   "metadata": {},
   "outputs": [],
   "source": [
    "test_df = cria_dataframe(os.path.join(path, 'test'))"
   ]
  },
  {
   "cell_type": "code",
   "execution_count": 10,
   "id": "266975bb-c7a7-4079-b573-d2ab79c81226",
   "metadata": {},
   "outputs": [],
   "source": [
    "train_datagen = ImageDataGenerator(preprocessing_function= preprocess_input)\n",
    "validation_datagen = ImageDataGenerator(preprocessing_function=preprocess_input)\n",
    "test_datagen = ImageDataGenerator(preprocessing_function=preprocess_input)"
   ]
  },
  {
   "cell_type": "code",
   "execution_count": 11,
   "id": "137ff3e4-780c-4222-94eb-a668a21e48b0",
   "metadata": {},
   "outputs": [
    {
     "name": "stdout",
     "output_type": "stream",
     "text": [
      "Found 1400 validated image filenames belonging to 2 classes.\n"
     ]
    }
   ],
   "source": [
    "train_generator = train_datagen.flow_from_dataframe(\n",
    "    train_df,\n",
    "    directory = os.path.join(path, 'train'),\n",
    "    x_col = 'arquivo',\n",
    "    y_col = 'rotulo',\n",
    "    target_size = (224,224),\n",
    "    batch_size = 128,\n",
    "    class_mode = 'categorical'\n",
    ")"
   ]
  },
  {
   "cell_type": "code",
   "execution_count": 12,
   "id": "26141b10-1b17-450f-9b7a-0ea433238f8e",
   "metadata": {},
   "outputs": [
    {
     "name": "stdout",
     "output_type": "stream",
     "text": [
      "Found 600 validated image filenames belonging to 2 classes.\n"
     ]
    }
   ],
   "source": [
    "validation_generator = train_datagen.flow_from_dataframe(\n",
    "    validation_df,\n",
    "    directory = os.path.join(path, 'train'),\n",
    "    x_col = 'arquivo',\n",
    "    y_col = 'rotulo',\n",
    "    target_size = (224,224),\n",
    "    batch_size = 128,\n",
    "    class_mode = 'categorical'\n",
    ")"
   ]
  },
  {
   "cell_type": "code",
   "execution_count": 52,
   "id": "74f2ea8c-4433-40e8-9816-c1a5d933807c",
   "metadata": {},
   "outputs": [
    {
     "name": "stdout",
     "output_type": "stream",
     "text": [
      "Found 1000 validated image filenames belonging to 2 classes.\n"
     ]
    }
   ],
   "source": [
    "test_generator = test_datagen.flow_from_dataframe(\n",
    "    test_df,\n",
    "    directory = os.path.join(path, 'test'),\n",
    "    x_col = 'arquivo',\n",
    "    y_col = 'rotulo',\n",
    "    target_size = (224,224),\n",
    "    batch_size = 128,\n",
    "    class_mode = 'categorical'\n",
    ")"
   ]
  },
  {
   "cell_type": "code",
   "execution_count": 20,
   "id": "f33a7446-0253-4d55-8052-a007509268db",
   "metadata": {},
   "outputs": [
    {
     "name": "stdout",
     "output_type": "stream",
     "text": [
      "Epoch 1/10\n",
      "10/10 [==============================] - 513s 51s/step - loss: 1.9660 - accuracy: 0.6918 - val_loss: 4848.6152 - val_accuracy: 0.5039\n",
      "Epoch 2/10\n",
      "10/10 [==============================] - 489s 50s/step - loss: 0.2446 - accuracy: 0.9009 - val_loss: 167.2427 - val_accuracy: 0.5098\n",
      "Epoch 3/10\n",
      "10/10 [==============================] - 483s 49s/step - loss: 0.1183 - accuracy: 0.9513 - val_loss: 76.7180 - val_accuracy: 0.5137\n",
      "Epoch 4/10\n",
      "10/10 [==============================] - 494s 50s/step - loss: 0.0583 - accuracy: 0.9835 - val_loss: 55.3617 - val_accuracy: 0.5000\n",
      "Epoch 5/10\n",
      "10/10 [==============================] - 519s 52s/step - loss: 0.0411 - accuracy: 0.9851 - val_loss: 6.2745 - val_accuracy: 0.5273\n",
      "Epoch 6/10\n",
      "10/10 [==============================] - 502s 51s/step - loss: 0.0353 - accuracy: 0.9882 - val_loss: 27.9921 - val_accuracy: 0.5000\n",
      "Epoch 7/10\n",
      "10/10 [==============================] - 496s 50s/step - loss: 0.0435 - accuracy: 0.9858 - val_loss: 2.8228 - val_accuracy: 0.4922\n",
      "Epoch 8/10\n",
      "10/10 [==============================] - 501s 51s/step - loss: 0.0438 - accuracy: 0.9866 - val_loss: 2.2501 - val_accuracy: 0.5645\n",
      "Epoch 9/10\n",
      "10/10 [==============================] - 502s 51s/step - loss: 0.0521 - accuracy: 0.9827 - val_loss: 13.5102 - val_accuracy: 0.5430\n",
      "Epoch 10/10\n",
      "10/10 [==============================] - 500s 50s/step - loss: 0.0391 - accuracy: 0.9882 - val_loss: 4.1072 - val_accuracy: 0.7148\n"
     ]
    },
    {
     "data": {
      "text/plain": [
       "<keras.callbacks.History at 0x26bb28f7460>"
      ]
     },
     "execution_count": 20,
     "metadata": {},
     "output_type": "execute_result"
    }
   ],
   "source": [
    "modelo.fit(\n",
    "    train_generator,\n",
    "    steps_per_epoch = train_generator.samples//train_generator.batch_size,\n",
    "    validation_data = validation_generator,\n",
    "    validation_steps = validation_generator.samples//validation_generator.batch_size,\n",
    "    epochs = 10\n",
    ")"
   ]
  },
  {
   "cell_type": "code",
   "execution_count": 1,
   "id": "2befc85b-516c-4756-92bc-a02b69ca9d57",
   "metadata": {},
   "outputs": [
    {
     "ename": "NameError",
     "evalue": "name 'modelo' is not defined",
     "output_type": "error",
     "traceback": [
      "\u001b[1;31m---------------------------------------------------------------------------\u001b[0m",
      "\u001b[1;31mNameError\u001b[0m                                 Traceback (most recent call last)",
      "Cell \u001b[1;32mIn[1], line 1\u001b[0m\n\u001b[1;32m----> 1\u001b[0m \u001b[43mmodelo\u001b[49m\u001b[38;5;241m.\u001b[39msave(\u001b[38;5;124m'\u001b[39m\u001b[38;5;124mmodelo_10_epochs\u001b[39m\u001b[38;5;124m'\u001b[39m)\n",
      "\u001b[1;31mNameError\u001b[0m: name 'modelo' is not defined"
     ]
    }
   ],
   "source": [
    "modelo.save('modelo_10_epochs')"
   ]
  },
  {
   "cell_type": "code",
   "execution_count": 15,
   "id": "0eac52d0-d400-4adf-9afe-6350a8d32379",
   "metadata": {},
   "outputs": [],
   "source": [
    "modelo = keras.models.load_model('D:/Salve_Aqui_Seus_Arquivos/carlos_araujo/TETI/modelo_10_epochs')\n",
    "path3 = 'D:/Salve_Aqui_Seus_Arquivos/carlos_araujo/TETI/transfer_learning_resnet50_12epochs_dcsmall/'\n",
    "path2 = 'D:/Salve_Aqui_Seus_Arquivos/carlos_araujo/TETI/amostras/'"
   ]
  },
  {
   "cell_type": "code",
   "execution_count": 18,
   "id": "5d1b4c17-afc8-4010-bdad-5979bdecca17",
   "metadata": {},
   "outputs": [
    {
     "name": "stdout",
     "output_type": "stream",
     "text": [
      "Model: \"sequential_1\"\n",
      "_________________________________________________________________\n",
      " Layer (type)                Output Shape              Param #   \n",
      "=================================================================\n",
      " resnet50 (Functional)       (None, 7, 7, 2048)        23587712  \n",
      "                                                                 \n",
      " global_average_pooling2d_1   (None, 2048)             0         \n",
      " (GlobalAveragePooling2D)                                        \n",
      "                                                                 \n",
      " dense_2 (Dense)             (None, 1024)              2098176   \n",
      "                                                                 \n",
      " dense_3 (Dense)             (None, 2)                 2050      \n",
      "                                                                 \n",
      "=================================================================\n",
      "Total params: 25,687,938\n",
      "Trainable params: 2,100,226\n",
      "Non-trainable params: 23,587,712\n",
      "_________________________________________________________________\n"
     ]
    }
   ],
   "source": [
    "modelo2 = keras.models.load_model(path+ 'transfer_learning_resnet50_12epochs_dcsmall.keras')\n",
    "modelo2.summary()"
   ]
  },
  {
   "cell_type": "code",
   "execution_count": 19,
   "id": "4b87f192-f7b0-4661-8270-42ec4ed456f5",
   "metadata": {},
   "outputs": [],
   "source": [
    "rotulos_classes = list(validation_generator.class_indices.keys())"
   ]
  },
  {
   "cell_type": "code",
   "execution_count": 41,
   "id": "6cf64acf-28ce-4d97-80d3-ef713526d30b",
   "metadata": {},
   "outputs": [],
   "source": [
    "def classifica(imagem):\n",
    "    img = load_img(imagem, target_size=(224,224))\n",
    "    img_ = image.img_to_array(img)\n",
    "    img_ = np.expand_dims(img_, axis= 0)\n",
    "    img_ = preprocess_input(img_)\n",
    "    preds = modelo.predict(img_)\n",
    "    classe_predita = np.argmax(preds, axis=1)[0]\n",
    "    rotulo_predito = rotulos_classes[classe_predita]\n",
    "    print(f\"Classe predita: {rotulo_predito} - {preds[0][classe_predita]:.4f}\")"
   ]
  },
  {
   "cell_type": "code",
   "execution_count": 53,
   "id": "2c1605f1-201a-4b34-a09d-5aff01d69e45",
   "metadata": {},
   "outputs": [],
   "source": [
    "img_pred = (path2+ 'gato1.jpg')"
   ]
  },
  {
   "cell_type": "code",
   "execution_count": 54,
   "id": "e0796ca7-b990-43df-b2ca-da2160d98349",
   "metadata": {},
   "outputs": [
    {
     "name": "stdout",
     "output_type": "stream",
     "text": [
      "1/1 [==============================] - 0s 165ms/step\n",
      "Classe predita: cat - 0.9974\n"
     ]
    }
   ],
   "source": [
    "classifica(img_pred)"
   ]
  },
  {
   "cell_type": "code",
   "execution_count": 55,
   "id": "27971a5e-27a3-4077-a23c-1cacca771a05",
   "metadata": {},
   "outputs": [
    {
     "name": "stdout",
     "output_type": "stream",
     "text": [
      "7/7 [==============================] - 81s 11s/step - loss: 0.0792 - accuracy: 0.9821\n",
      "Acurácia no teste:0.9821428656578064\n"
     ]
    }
   ],
   "source": [
    "test_loss, test_accuracy = modelo2.evaluate(test_generator, steps= test_generator.samples // test_generator.batch_size)\n",
    "print(f'Acurácia no teste:{test_accuracy}')"
   ]
  }
 ],
 "metadata": {
  "kernelspec": {
   "display_name": "Python 3 (ipykernel)",
   "language": "python",
   "name": "python3"
  },
  "language_info": {
   "codemirror_mode": {
    "name": "ipython",
    "version": 3
   },
   "file_extension": ".py",
   "mimetype": "text/x-python",
   "name": "python",
   "nbconvert_exporter": "python",
   "pygments_lexer": "ipython3",
   "version": "3.10.14"
  }
 },
 "nbformat": 4,
 "nbformat_minor": 5
}
