{
 "cells": [
  {
   "cell_type": "markdown",
   "id": "cdc11dfd-7c46-44ec-9b82-1050321c987d",
   "metadata": {},
   "source": [
    "## bibliotecas"
   ]
  },
  {
   "cell_type": "code",
   "execution_count": 1,
   "id": "3324687d-4f5f-486c-8a63-9516fcca73d2",
   "metadata": {},
   "outputs": [],
   "source": [
    "from PIL import Image, ImageOps\n",
    "import matplotlib.pyplot as plt\n",
    "from pylab import *\n",
    "import cv2\n",
    "import matplotlib.pyplot as plt\n",
    "from matplotlib.pyplot import figure\n",
    "import time\n",
    "import numpy as np"
   ]
  },
  {
   "cell_type": "markdown",
   "id": "cd72afcc-c4d6-4c66-8e6e-203dcf7c10d3",
   "metadata": {},
   "source": [
    "## caminhos"
   ]
  },
  {
   "cell_type": "code",
   "execution_count": 2,
   "id": "805fd384-8760-4d66-a858-0bf98cf620a2",
   "metadata": {},
   "outputs": [],
   "source": [
    "path_salvar = 'C:/Users/user/visao_am/videos_salvos/'\n",
    "path = 'C:/Users/user/visao_am/imagens_visao_am/'\n",
    "path2 = 'C:/Users/user/visao_am/'"
   ]
  },
  {
   "cell_type": "markdown",
   "id": "166c3d2f-f915-4fa8-8483-0f19b76ff386",
   "metadata": {},
   "source": [
    "## mídias"
   ]
  },
  {
   "cell_type": "code",
   "execution_count": 3,
   "id": "5ddbcf6b-6978-4f66-b240-c90b57e53735",
   "metadata": {},
   "outputs": [],
   "source": [
    "video = path+'mont_russa.mp4'\n",
    "video2 = path+'caleido.mp4'\n",
    "video3 = path+'output.avi'\n",
    "img = cv2.imread(path+\"arara_azul.jpg\")"
   ]
  },
  {
   "cell_type": "markdown",
   "id": "4a78cdfb-6066-489e-b7f6-6d45c2698e34",
   "metadata": {},
   "source": [
    "## kernels"
   ]
  },
  {
   "cell_type": "code",
   "execution_count": 4,
   "id": "bfcef10e-1af6-4484-9fb2-bcfe899dd4b1",
   "metadata": {},
   "outputs": [],
   "source": [
    "k = np.array([[1,0,1],\n",
    "            [0,0,0],\n",
    "            [0,0,-1]])\n",
    "k2 = np.array([[-1,-1,-1],\n",
    "            [-1,8,-1],\n",
    "            [-1,-1,-1]])\n",
    "k3 = np.array([[0,-1,0],\n",
    "            [-1,5,1],\n",
    "            [0,-1,0]])\n",
    "kl = np.array([[0,1,0],\n",
    "            [1,-4,1],\n",
    "            [0,1,0]], dtype=np.float32)"
   ]
  },
  {
   "cell_type": "markdown",
   "id": "be7acc76-b712-428a-a070-1a6809f435bf",
   "metadata": {},
   "source": [
    "## funções"
   ]
  },
  {
   "cell_type": "code",
   "execution_count": 5,
   "id": "f5d7129e-0093-415d-b7c3-ca3e4d4120c7",
   "metadata": {},
   "outputs": [],
   "source": [
    "def escolhe_tipo (op, img):\n",
    "    if (op==\"a\"):\n",
    "        saida = cv2.filter2D(img, -1, k)\n",
    "        return saida\n",
    "    elif (op==\"b\"):\n",
    "        saida = cv2.filter2D(img, -1, k2)\n",
    "        return saida\n",
    "    elif (op==\"c\"):\n",
    "        saida = cv2.filter2D(img, -1, k3)\n",
    "        return saida\n",
    "    elif (op==\"l\"):\n",
    "        saida = cv2.filter2D(img, -1, kl)\n",
    "        return saida\n",
    "    elif (op==\"n\"):\n",
    "        return img\n",
    "    else:\n",
    "        saida = img\n",
    "        return saida"
   ]
  },
  {
   "cell_type": "code",
   "execution_count": 6,
   "id": "4bc96e97-b030-408a-82d4-c93c7c700d95",
   "metadata": {},
   "outputs": [],
   "source": [
    "def reverso(video):\n",
    "    lista = []\n",
    "    cap = cv2.VideoCapture(video)\n",
    "    while True:\n",
    "        rval, frame = cap.read()\n",
    "        if not rval:\n",
    "            break\n",
    "        lista.append(frame)\n",
    "        lista.reverse()\n",
    "\n",
    "    for l in lista:\n",
    "        cv2.imshow('frame', l)\n",
    "\n",
    "        key = cv2.waitKey(100) & 0xFF\n",
    "        if key == ord('q'):\n",
    "            break\n",
    "        \n",
    "    cap.release()\n",
    "    cv2.destroyAllWindows()"
   ]
  },
  {
   "cell_type": "code",
   "execution_count": 7,
   "id": "984f7ee4-6aa6-485f-8cb4-2f96e737de38",
   "metadata": {},
   "outputs": [],
   "source": [
    "def salvar_video(lista_frames, nome_arquivo, fps=30):\n",
    "    if not lista_frames:\n",
    "        print(\"A lista de frames está vazia!\")\n",
    "        return\n",
    "        \n",
    "    altura, largura, canais = lista_frames[0].shape\n",
    "\n",
    "    fourcc = cv2.VideoWriter_fourcc(*'XVID')\n",
    "    video_writer = cv2.VideoWriter(path_salvar+nome_arquivo, fourcc, fps, (largura, altura))\n",
    "\n",
    "    for frame in lista_frames:\n",
    "        if frame.shape[0] != altura or frame.shape[1] != largura:\n",
    "            print(\"As dimensões dos frames são inconsistentes!\")\n",
    "            video_writer.release()\n",
    "            return\n",
    "        \n",
    "        video_writer.write(frame)\n",
    "\n",
    "    video_writer.release()\n",
    "    print(f\"Vídeo salvo como '{nome_arquivo}' com {len(lista_frames)} frames.\")"
   ]
  },
  {
   "cell_type": "code",
   "execution_count": 8,
   "id": "9b78ef77-03c9-4c2c-8162-e6325e7edef2",
   "metadata": {},
   "outputs": [
    {
     "data": {
      "text/plain": [
       "\u001b[1;31mInit signature:\u001b[0m \u001b[0mcv2\u001b[0m\u001b[1;33m.\u001b[0m\u001b[0mVideoWriter\u001b[0m\u001b[1;33m(\u001b[0m\u001b[0mself\u001b[0m\u001b[1;33m,\u001b[0m \u001b[1;33m/\u001b[0m\u001b[1;33m,\u001b[0m \u001b[1;33m*\u001b[0m\u001b[0margs\u001b[0m\u001b[1;33m,\u001b[0m \u001b[1;33m**\u001b[0m\u001b[0mkwargs\u001b[0m\u001b[1;33m)\u001b[0m\u001b[1;33m\u001b[0m\u001b[1;33m\u001b[0m\u001b[0m\n",
       "\u001b[1;31mDocstring:\u001b[0m      <no docstring>\n",
       "\u001b[1;31mFile:\u001b[0m           c:\\users\\user\\anaconda3\\envs\\visao_am\\lib\\site-packages\\cv2\\__init__.py\n",
       "\u001b[1;31mType:\u001b[0m           type\n",
       "\u001b[1;31mSubclasses:\u001b[0m     "
      ]
     },
     "metadata": {},
     "output_type": "display_data"
    }
   ],
   "source": [
    "cv2.VideoWriter?"
   ]
  },
  {
   "cell_type": "code",
   "execution_count": 9,
   "id": "3f1f4bc9-b140-4c8b-b490-8f2863a702f7",
   "metadata": {},
   "outputs": [],
   "source": [
    "def salvar_videos_emLista(lista2, video):\n",
    "    lista2.insert(0, 0)\n",
    "    cont = 1\n",
    "    listaVideos = []\n",
    "    videoVez = []\n",
    "    pos = 1\n",
    "    cap = cv2.VideoCapture(video)\n",
    "    \n",
    "    while True:\n",
    "        rval, frame = cap.read()\n",
    "        if not rval:\n",
    "            cap.set(cv2.CAP_PROP_POS_FRAMES, 0)\n",
    "            continue\n",
    "            \n",
    "        if cont == lista2[pos]:\n",
    "            listaVideos.append(videoVez)\n",
    "            pos+= 1\n",
    "            videoVez = []\n",
    "            if pos > len(lista2) - 1:\n",
    "                break\n",
    "        else:\n",
    "            videoVez.append(frame)\n",
    "            \n",
    "        cont += 1\n",
    "    cap.release()\n",
    "    return listaVideos"
   ]
  },
  {
   "cell_type": "code",
   "execution_count": 10,
   "id": "2b9abf45-e60e-4f2b-bb83-6cc981b9c446",
   "metadata": {},
   "outputs": [],
   "source": [
    "def salvar_videos_pc(videos):\n",
    "    cont = 0\n",
    "    for v in videos:\n",
    "        salvar_video(videos[cont], f\"output_video{cont+1}.avi\", fps=30)\n",
    "        cont+=1"
   ]
  },
  {
   "cell_type": "code",
   "execution_count": 11,
   "id": "970a8303-e3a4-432e-ac88-419b00dccf88",
   "metadata": {},
   "outputs": [],
   "source": [
    "def salvar_videos_pc_web(videos):\n",
    "    cont = 0\n",
    "    for v in videos:\n",
    "        salvar_video(videos[cont], f\"web{cont+1}.avi\", fps=30)\n",
    "        cont+=1"
   ]
  },
  {
   "cell_type": "code",
   "execution_count": 12,
   "id": "bd1c47e3-c88f-432c-8638-799e44da9b7b",
   "metadata": {},
   "outputs": [],
   "source": [
    "def salvar_video_web():\n",
    "    op = \"\"\n",
    "    cont = 1\n",
    "    listaCont = []\n",
    "    listaFrames = []\n",
    "    cap = cv2.VideoCapture(0)\n",
    "    while True:\n",
    "        rval, frame = cap.read()\n",
    "        if not rval:\n",
    "            cap.set(cv2.CAP_PROP_POS_FRAMES, 0)\n",
    "            continue\n",
    "\n",
    "        frame = escolhe_tipo (op, frame)\n",
    "        listaFrames.append(frame)\n",
    "        cv2.imshow('frame', frame)\n",
    "    \n",
    "        key = cv2.waitKey(10) & 0xFF\n",
    "        if key == ord('q'):\n",
    "            break\n",
    "        elif key == ord('y'):\n",
    "            listaCont.append(cont)\n",
    "        elif key == ord('a'):\n",
    "            op = \"a\"\n",
    "        elif key == ord('b'):\n",
    "            op = \"b\"\n",
    "        elif key == ord('c'):\n",
    "            op = \"c\"\n",
    "        elif key == ord('l'):\n",
    "            op = \"l\"\n",
    "        elif key == ord('n'):\n",
    "            op = \"n\"\n",
    "            \n",
    "        cont+=1\n",
    "    cap.release()\n",
    "    cv2.destroyAllWindows()\n",
    "\n",
    "    salvar_video(listaFrames, \"VideoGrande.avi\", fps=30)\n",
    "    if (len(listaCont) != 0):\n",
    "        videoWeb = path_salvar+'VideoGrande.avi'\n",
    "        videosWeb = salvar_videos_emLista(listaCont, videoWeb)\n",
    "        salvar_videos_pc_web(videosWeb)\n",
    "        \n",
    "    listaCont = []\n",
    "    listaFrames = []"
   ]
  },
  {
   "cell_type": "code",
   "execution_count": 13,
   "id": "4a32c5f9-918f-4671-9479-d26dc553b3a8",
   "metadata": {},
   "outputs": [],
   "source": [
    "def salvar_video_existente(video):\n",
    "    cont = 1\n",
    "    op = \"\"\n",
    "    listaCont = []\n",
    "    cap = cv2.VideoCapture(video)\n",
    "    while True:\n",
    "        rval, frame = cap.read()\n",
    "        if not rval:\n",
    "            cap.set(cv2.CAP_PROP_POS_FRAMES, 0)\n",
    "            continue\n",
    "\n",
    "        cv2.imshow('frame', frame)\n",
    "    \n",
    "    \n",
    "        key = cv2.waitKey(10) & 0xFF\n",
    "        if key == ord('q'):\n",
    "            break\n",
    "        elif key == ord('y'):\n",
    "            listaCont.append(cont)\n",
    "        \n",
    "        \n",
    "        cont+=1\n",
    "    cap.release()\n",
    "    cv2.destroyAllWindows()\n",
    "    if (len(listaCont) != 0):\n",
    "        videosParte = salvar_videos_emLista(listaCont, video)\n",
    "        salvar_videos_pc(videosParte)"
   ]
  },
  {
   "cell_type": "code",
   "execution_count": 14,
   "id": "c89823ad-1d99-4d22-a7cd-9ad54b8211a1",
   "metadata": {},
   "outputs": [
    {
     "name": "stdout",
     "output_type": "stream",
     "text": [
      "Vídeo salvo como 'VideoGrande.avi' com 274 frames.\n"
     ]
    }
   ],
   "source": [
    "salvar_video_web()"
   ]
  }
 ],
 "metadata": {
  "kernelspec": {
   "display_name": "Python 3 (ipykernel)",
   "language": "python",
   "name": "python3"
  },
  "language_info": {
   "codemirror_mode": {
    "name": "ipython",
    "version": 3
   },
   "file_extension": ".py",
   "mimetype": "text/x-python",
   "name": "python",
   "nbconvert_exporter": "python",
   "pygments_lexer": "ipython3",
   "version": "3.10.14"
  }
 },
 "nbformat": 4,
 "nbformat_minor": 5
}
